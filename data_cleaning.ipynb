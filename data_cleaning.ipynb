{
 "cells": [
  {
   "cell_type": "code",
   "execution_count": null,
   "metadata": {},
   "outputs": [],
   "source": [
    "import pandas as pd\n",
    "import matplotlib.pyplot as plt\n",
    "import numpy as np\n",
    "import os\n",
    "from obspy.signal.detrend import polynomial\n",
    "import obspy"
   ]
  },
  {
   "cell_type": "code",
   "execution_count": null,
   "metadata": {},
   "outputs": [],
   "source": [
    "#list the files\n",
    "filelist = os.listdir(\"rr_data_file\")\n",
    "#read them into pandas\n",
    "df_list = [pd.read_csv(f'rr_data_file/{file}',delimiter = \"\\t\",names=[f'{file}']) for file in filelist]\n",
    "#print(df_list)"
   ]
  },
  {
   "cell_type": "code",
   "execution_count": null,
   "metadata": {},
   "outputs": [],
   "source": [
    "min_len = min(map(len, df_list))\n",
    "#print(min_len)\n",
    "#to even the all txt files cropping them\n",
    "small_df = pd.concat(df_list,axis=1)\n",
    "big_df = (small_df.T).apply(pd.to_numeric, errors='coerce')\n",
    "cropped_df = big_df.iloc[:,:min_len]\n",
    "#print(cropped_df)"
   ]
  },
  {
   "cell_type": "code",
   "execution_count": null,
   "metadata": {},
   "outputs": [],
   "source": [
    "#separating the dataframe into 2 batches\n",
    "batch1 = cropped_df.iloc[:,:int(cropped_df.shape[1]/2)]\n",
    "batch2 = cropped_df.iloc[:,int(cropped_df.shape[1]/2):]"
   ]
  },
  {
   "cell_type": "code",
   "execution_count": null,
   "metadata": {},
   "outputs": [],
   "source": [
    "df_cum = batch1.cumsum(axis = 1, skipna = True)\n",
    "N = batch1.shape[1]\n",
    "\n",
    "#defining a detrending function to find delta\n",
    "def detrend(df, s_vals, p_order):\n",
    "    for j in range(len(df)):\n",
    "      row = df.iloc[j,:]\n",
    "      delta_S_B=np.zeros((len(s_vals),N))\n",
    "      for idx, s in enumerate(s_vals):\n",
    "        print(idx,s)\n",
    "        intval = int(np.floor(N/(2*s)))\n",
    "        for i in range(intval):\n",
    "          #print(row[i*2*s:(i+1)*2*s])\n",
    "          polynomial(row[i*2*s:(i+1)*2*s],p_order, plot =False)\n",
    "        polynomial(row[intval*2*s:],p_order, plot =False)\n",
    "        print(row[i+s])\n",
    "        delta_S_B[idx,:]=np.array([row[i+s]-row[i] if i+s< N else row[i] for i in range(N)])\n",
    "        #delta_S_B[intval*2*s:]=row[intval*2*s:]\n",
    "    return delta_S_B\n",
    "\n",
    "delta_S_B = detrend(df_cum[0:3],[1000], 3)\n",
    "#print(delta_S_B)\n",
    "#plt.plot(np.linspace(0,N,N), delta_S_B[0,:])\n",
    "#counts, edges=np.histogram(delta_S_B[0,:], bins=int(np.sqrt(delta_S_B[0,:].size)), range=(-10, 10))\n",
    "#bin_cen=(edges[1:]+edges[:-1])/2\n",
    "#plt.scatter(bin_cen, counts, s=1)"
   ]
  }
 ],
 "metadata": {
  "language_info": {
   "name": "python"
  }
 },
 "nbformat": 4,
 "nbformat_minor": 2
}
